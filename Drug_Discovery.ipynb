{
  "cells": [
    {
      "cell_type": "markdown",
      "metadata": {
        "id": "view-in-github",
        "colab_type": "text"
      },
      "source": [
        "<a href=\"https://colab.research.google.com/github/gowthami9821/Drug_Discovery_using-SMILES/blob/main/Drug_Discovery.ipynb\" target=\"_parent\"><img src=\"https://colab.research.google.com/assets/colab-badge.svg\" alt=\"Open In Colab\"/></a>"
      ]
    },
    {
      "cell_type": "code",
      "execution_count": null,
      "metadata": {
        "colab": {
          "base_uri": "https://localhost:8080/"
        },
        "id": "tFI-rAXGhAM3",
        "outputId": "7b4a2748-00e2-4cd4-a444-10fd25d68f30"
      },
      "outputs": [
        {
          "output_type": "stream",
          "name": "stdout",
          "text": [
            "2.2.2\n",
            "2.0.2\n"
          ]
        }
      ],
      "source": [
        "import numpy as np\n",
        "import pandas as pd\n",
        "print(pd.__version__)\n",
        "print(np.__version__)"
      ]
    },
    {
      "cell_type": "markdown",
      "source": [
        "# New Section"
      ],
      "metadata": {
        "id": "5vq0IUiLEONH"
      }
    },
    {
      "cell_type": "code",
      "execution_count": 1,
      "metadata": {
        "colab": {
          "base_uri": "https://localhost:8080/"
        },
        "id": "9qxeEtv2hKJ9",
        "outputId": "f97b6083-9a8b-4a25-faaa-a92448795c30"
      },
      "outputs": [
        {
          "output_type": "stream",
          "name": "stdout",
          "text": [
            "Found existing installation: numpy 2.0.2\n",
            "Uninstalling numpy-2.0.2:\n",
            "  Successfully uninstalled numpy-2.0.2\n",
            "Found existing installation: pandas 2.2.2\n",
            "Uninstalling pandas-2.2.2:\n",
            "  Successfully uninstalled pandas-2.2.2\n"
          ]
        }
      ],
      "source": [
        "!pip uninstall -y numpy pandas"
      ]
    },
    {
      "cell_type": "code",
      "execution_count": 1,
      "metadata": {
        "colab": {
          "base_uri": "https://localhost:8080/"
        },
        "id": "b82SZOzLhhN_",
        "outputId": "0d89dd8b-4a24-42fc-9fc6-2605367b77bc"
      },
      "outputs": [
        {
          "output_type": "stream",
          "name": "stdout",
          "text": [
            "Requirement already satisfied: numpy==1.26.4 in /usr/local/lib/python3.11/dist-packages (1.26.4)\n",
            "Requirement already satisfied: pandas==2.2.2 in /usr/local/lib/python3.11/dist-packages (2.2.2)\n",
            "Requirement already satisfied: python-dateutil>=2.8.2 in /usr/local/lib/python3.11/dist-packages (from pandas==2.2.2) (2.9.0.post0)\n",
            "Requirement already satisfied: pytz>=2020.1 in /usr/local/lib/python3.11/dist-packages (from pandas==2.2.2) (2025.2)\n",
            "Requirement already satisfied: tzdata>=2022.7 in /usr/local/lib/python3.11/dist-packages (from pandas==2.2.2) (2025.2)\n",
            "Requirement already satisfied: six>=1.5 in /usr/local/lib/python3.11/dist-packages (from python-dateutil>=2.8.2->pandas==2.2.2) (1.17.0)\n"
          ]
        }
      ],
      "source": [
        "!pip install numpy==1.26.4 pandas==2.2.2\n"
      ]
    },
    {
      "cell_type": "code",
      "execution_count": 2,
      "metadata": {
        "colab": {
          "base_uri": "https://localhost:8080/"
        },
        "id": "z8gvwOSEhszt",
        "outputId": "934111ef-9a8c-4ce8-f794-09211b4b8f93"
      },
      "outputs": [
        {
          "output_type": "stream",
          "name": "stdout",
          "text": [
            "1.26.4\n"
          ]
        }
      ],
      "source": [
        "import numpy as np\n",
        "\n",
        "print(np.__version__)\n"
      ]
    },
    {
      "cell_type": "code",
      "execution_count": 3,
      "metadata": {
        "id": "00qL_sJjjBq4"
      },
      "outputs": [],
      "source": [
        "!pip install rdkit >& dev_null"
      ]
    },
    {
      "cell_type": "code",
      "execution_count": 4,
      "metadata": {
        "colab": {
          "base_uri": "https://localhost:8080/"
        },
        "id": "TafYn7qBrufE",
        "outputId": "ff8e74cd-cced-40f9-bb80-ba906fecc8ae"
      },
      "outputs": [
        {
          "output_type": "stream",
          "name": "stdout",
          "text": [
            "Collecting rdkit-pypi\n",
            "  Downloading rdkit_pypi-2022.9.5-cp311-cp311-manylinux_2_17_x86_64.manylinux2014_x86_64.whl.metadata (3.9 kB)\n",
            "Requirement already satisfied: tqdm in /usr/local/lib/python3.11/dist-packages (4.67.1)\n",
            "Requirement already satisfied: matplotlib in /usr/local/lib/python3.11/dist-packages (3.10.0)\n",
            "Requirement already satisfied: numpy in /usr/local/lib/python3.11/dist-packages (from rdkit-pypi) (1.26.4)\n",
            "Requirement already satisfied: Pillow in /usr/local/lib/python3.11/dist-packages (from rdkit-pypi) (11.2.1)\n",
            "Requirement already satisfied: contourpy>=1.0.1 in /usr/local/lib/python3.11/dist-packages (from matplotlib) (1.3.2)\n",
            "Requirement already satisfied: cycler>=0.10 in /usr/local/lib/python3.11/dist-packages (from matplotlib) (0.12.1)\n",
            "Requirement already satisfied: fonttools>=4.22.0 in /usr/local/lib/python3.11/dist-packages (from matplotlib) (4.57.0)\n",
            "Requirement already satisfied: kiwisolver>=1.3.1 in /usr/local/lib/python3.11/dist-packages (from matplotlib) (1.4.8)\n",
            "Requirement already satisfied: packaging>=20.0 in /usr/local/lib/python3.11/dist-packages (from matplotlib) (24.2)\n",
            "Requirement already satisfied: pyparsing>=2.3.1 in /usr/local/lib/python3.11/dist-packages (from matplotlib) (3.2.3)\n",
            "Requirement already satisfied: python-dateutil>=2.7 in /usr/local/lib/python3.11/dist-packages (from matplotlib) (2.9.0.post0)\n",
            "Requirement already satisfied: six>=1.5 in /usr/local/lib/python3.11/dist-packages (from python-dateutil>=2.7->matplotlib) (1.17.0)\n",
            "Downloading rdkit_pypi-2022.9.5-cp311-cp311-manylinux_2_17_x86_64.manylinux2014_x86_64.whl (29.4 MB)\n",
            "\u001b[2K   \u001b[90m━━━━━━━━━━━━━━━━━━━━━━━━━━━━━━━━━━━━━━━━\u001b[0m \u001b[32m29.4/29.4 MB\u001b[0m \u001b[31m54.3 MB/s\u001b[0m eta \u001b[36m0:00:00\u001b[0m\n",
            "\u001b[?25hInstalling collected packages: rdkit-pypi\n",
            "Successfully installed rdkit-pypi-2022.9.5\n"
          ]
        }
      ],
      "source": [
        "!pip install rdkit-pypi tqdm matplotlib\n",
        "import pickle\n",
        "import numpy as np\n",
        "import pandas as pd\n",
        "import matplotlib.pyplot as plt\n",
        "from rdkit import Chem\n",
        "from rdkit.Chem import AllChem\n",
        "from tqdm import tqdm\n",
        "import torch\n",
        "import torch.nn as nn\n",
        "import torch.optim as optim\n",
        "from torch.utils.data import DataLoader, TensorDataset\n"
      ]
    },
    {
      "cell_type": "code",
      "source": [
        "!pip install --force-reinstall numpy\n"
      ],
      "metadata": {
        "id": "2011xCn34eZM"
      },
      "execution_count": null,
      "outputs": []
    },
    {
      "cell_type": "code",
      "execution_count": null,
      "metadata": {
        "id": "cH-CztW-1mdq"
      },
      "outputs": [],
      "source": [
        "df = pd.read_csv('SMILES_Big_Data_Set.csv')\n",
        "smiles_list = df['SMILES'].dropna().unique()[:10000]"
      ]
    },
    {
      "cell_type": "code",
      "execution_count": null,
      "metadata": {
        "id": "1afZL3q1sAVL"
      },
      "outputs": [],
      "source": [
        "# df = pd.read_csv('/content/SMILES_Big_Data_Set.csv')\n",
        "# smiles_list = df['SMILES'].dropna().unique()[:10000]  # Limit for training speed\n",
        "\n",
        "\n",
        "def smiles_to_fp(smiles):\n",
        "    mol = Chem.MolFromSmiles(smiles)\n",
        "    if mol:\n",
        "        fp = AllChem.GetMorganFingerprintAsBitVect(mol, 2, nBits=2048)\n",
        "        return np.array(fp)\n",
        "    return None\n",
        "\n",
        "fingerprints = []\n",
        "for s in tqdm(smiles_list):\n",
        "    fp = smiles_to_fp(s)\n",
        "    if fp is not None:\n",
        "        fingerprints.append(fp)\n",
        "\n",
        "fingerprints = np.array(fingerprints)\n",
        "print(f'Valid fingerprints: {fingerprints.shape}')\n",
        "\n",
        "def q_sample(x_start, t, noise):\n",
        "    return x_start * (1 - t) + noise * t\n",
        "\n",
        "def linear_beta_schedule(timesteps):\n",
        "    beta_start = 0.0001\n",
        "    beta_end = 0.02\n",
        "    return torch.linspace(beta_start, beta_end, timesteps)\n",
        "\n",
        "betas = linear_beta_schedule(1000)\n",
        "\n",
        "\n",
        "class SimpleDiffusionModel(nn.Module):\n",
        "    def __init__(self, input_dim=2048, hidden_dim=1024):\n",
        "        super(SimpleDiffusionModel, self).__init__()\n",
        "        self.net = nn.Sequential(\n",
        "            nn.Linear(input_dim, hidden_dim),\n",
        "            nn.ReLU(),\n",
        "            nn.Linear(hidden_dim, hidden_dim),\n",
        "            nn.ReLU(),\n",
        "            nn.Linear(hidden_dim, input_dim)\n",
        "        )\n",
        "\n",
        "    def forward(self, x, t):\n",
        "        # Add time step embedding (optional for now)\n",
        "        return self.net(x)\n",
        "\n",
        "\n",
        "# Set device\n",
        "device = torch.device(\"cuda\" if torch.cuda.is_available() else \"cpu\")\n",
        "\n",
        "# Initialize the model and move it to device\n",
        "model = SimpleDiffusionModel().to(device)\n",
        "\n",
        "# Define optimizer and loss function\n",
        "optimizer = torch.optim.Adam(model.parameters(), lr=1e-3)\n",
        "mse = nn.MSELoss()\n",
        "\n",
        "\n",
        "def linear_beta_schedule(timesteps):\n",
        "    beta_start = 0.0001\n",
        "    beta_end = 0.02\n",
        "    return torch.linspace(beta_start, beta_end, timesteps)\n",
        "\n",
        "timesteps = 1000\n",
        "betas = linear_beta_schedule(timesteps)\n",
        "alphas = 1. - betas\n",
        "alphas_cumprod = torch.cumprod(alphas, dim=0)\n",
        "\n",
        "def forward_diffusion_sample(x0, t, noise=None):\n",
        "    if noise is None:\n",
        "        noise = torch.randn_like(x0)\n",
        "    sqrt_alphas_cumprod_t = alphas_cumprod[t]**0.5\n",
        "    sqrt_one_minus_alphas_cumprod_t = (1 - alphas_cumprod[t])**0.5\n",
        "    return sqrt_alphas_cumprod_t * x0 + sqrt_one_minus_alphas_cumprod_t * noise, noise\n"
      ]
    },
    {
      "cell_type": "code",
      "execution_count": null,
      "metadata": {
        "id": "8HHBQYYektLx"
      },
      "outputs": [],
      "source": [
        "# Convert your fingerprint data (NumPy) to PyTorch tensors\n",
        "fingerprint_tensor = torch.tensor(fingerprints, dtype=torch.float32)\n",
        "\n",
        "# Create a DataLoader for mini-batch training\n",
        "dataset = TensorDataset(fingerprint_tensor)\n",
        "dataloader = DataLoader(dataset, batch_size=64, shuffle=True)\n"
      ]
    },
    {
      "cell_type": "code",
      "execution_count": null,
      "metadata": {
        "id": "QYGWRjLUlHzU"
      },
      "outputs": [],
      "source": [
        "def forward_diffusion_sample(x0, t, noise=None):\n",
        "    if noise is None:\n",
        "        noise = torch.randn_like(x0)\n",
        "\n",
        "    sqrt_alphas_cumprod_t = alphas_cumprod[t].unsqueeze(1).to(x0.device) ** 0.5\n",
        "    sqrt_one_minus_alphas_cumprod_t = (1 - alphas_cumprod[t]).unsqueeze(1).to(x0.device) ** 0.5\n",
        "\n",
        "    return sqrt_alphas_cumprod_t * x0 + sqrt_one_minus_alphas_cumprod_t * noise, noise\n"
      ]
    },
    {
      "cell_type": "code",
      "execution_count": null,
      "metadata": {
        "id": "VGqGaU-JmH_I"
      },
      "outputs": [],
      "source": [
        "from tqdm import tqdm  # ✅ Make sure this line is separate\n",
        "device = torch.device(\"cuda\" if torch.cuda.is_available() else \"cpu\")\n",
        "\n",
        "epochs = 10\n",
        "for epoch in range(epochs):\n",
        "    print(f\"🌟 Epoch {epoch + 1}/{epochs}\")\n",
        "    pbar = tqdm(dataloader)\n",
        "\n",
        "    for batch in pbar:\n",
        "        x0 = batch[0].to(device)\n",
        "\n",
        "        # Random time step for each sample\n",
        "        t = torch.randint(0, timesteps, (x0.shape[0],), device=device).long()\n",
        "\n",
        "        # Forward diffusion: add noise to x0\n",
        "        noisy_x, noise = forward_diffusion_sample(x0, t)\n",
        "\n",
        "        # Predict the noise using the model\n",
        "        noise_pred = model(noisy_x, t)\n",
        "\n",
        "        # Loss: MSE between actual and predicted noise\n",
        "        loss = mse(noise, noise_pred)\n",
        "\n",
        "        optimizer.zero_grad()\n",
        "        loss.backward()\n",
        "        optimizer.step()\n",
        "\n",
        "        pbar.set_description(f\"Loss: {loss.item():.4f}\")\n",
        "# save model\n",
        "torch.save(model.state_dict(), \"diffusion_model.pth\")\n",
        "print(\"✅ Model saved as diffusion_model.pth\")"
      ]
    },
    {
      "cell_type": "code",
      "execution_count": null,
      "metadata": {
        "id": "OS3ZvOoPmr8L"
      },
      "outputs": [],
      "source": [
        "@torch.no_grad()\n",
        "def sample(model, n_samples, n_steps, device=\"cpu\"):\n",
        "    model.eval()\n",
        "    x = torch.randn(n_samples, 2048).to(device)\n",
        "\n",
        "    for t in reversed(range(n_steps)):\n",
        "        t_batch = torch.full((n_samples,), t, device=device, dtype=torch.long)\n",
        "        predicted_noise = model(x, t_batch)\n",
        "\n",
        "        alpha = alphas[t]\n",
        "        alpha_hat = alphas_cumprod[t]\n",
        "        beta = betas[t]\n",
        "\n",
        "        if t > 0:\n",
        "            noise = torch.randn_like(x)\n",
        "        else:\n",
        "            noise = torch.zeros_like(x)\n",
        "\n",
        "        x = (1 / alpha**0.5) * (x - ((1 - alpha) / (1 - alpha_hat)**0.5) * predicted_noise) + (beta**0.5) * noise\n",
        "\n",
        "    return x\n"
      ]
    },
    {
      "cell_type": "code",
      "execution_count": null,
      "metadata": {
        "id": "0NQeoV-IoL6S"
      },
      "outputs": [],
      "source": [
        "from rdkit import DataStructs\n",
        "\n",
        "def nearest_smiles_from_fp(fp_generated, fps_real, smiles_list):\n",
        "    closest_smiles = []\n",
        "    for fp in fp_generated:\n",
        "        sims = [DataStructs.TanimotoSimilarity(DataStructs.ExplicitBitVect(list(fp.cpu().numpy().astype(int))),\n",
        "                                               DataStructs.ExplicitBitVect(list(rfp.astype(int))))\n",
        "                for rfp in fps_real]\n",
        "        best_idx = np.argmax(sims)\n",
        "        closest_smiles.append(smiles_list[best_idx])\n",
        "    return closest_smiles\n"
      ]
    },
    {
      "cell_type": "code",
      "execution_count": null,
      "metadata": {
        "id": "SxGwEyVDoek-"
      },
      "outputs": [],
      "source": [
        "T = 1000\n",
        "from rdkit import DataStructs\n",
        "\n",
        "def nearest_smiles_from_fp(fp_generated, fps_real, smiles_real):\n",
        "    closest_smiles = []\n",
        "    for fp in fp_generated:\n",
        "        # Convert float32 tensor to binary string (e.g., \"010101...\")\n",
        "        bin_str = ''.join(['1' if bit > 0.5 else '0' for bit in fp.cpu().numpy()])\n",
        "        try:\n",
        "            gen_fp = DataStructs.CreateFromBitString(bin_str)\n",
        "        except Exception as e:\n",
        "            print(\"⚠️ Error creating fingerprint:\", e)\n",
        "            continue\n",
        "\n",
        "        max_sim = 0\n",
        "        best_smiles = None\n",
        "        for real_fp, real_smiles in zip(fps_real, smiles_real):\n",
        "            ref_bin_str = ''.join(['1' if bit else '0' for bit in real_fp])\n",
        "            ref_fp = DataStructs.CreateFromBitString(ref_bin_str)\n",
        "            sim = DataStructs.TanimotoSimilarity(gen_fp, ref_fp)\n",
        "            if sim > max_sim:\n",
        "                max_sim = sim\n",
        "                best_smiles = real_smiles\n",
        "\n",
        "        closest_smiles.append(best_smiles)\n",
        "    return closest_smiles\n"
      ]
    },
    {
      "cell_type": "code",
      "execution_count": null,
      "metadata": {
        "id": "STz6r4GuoPQh"
      },
      "outputs": [],
      "source": [
        "# Sample new molecules\n",
        "generated_fps = sample(model, n_samples=5, n_steps=T, device=device)\n",
        "\n",
        "# Convert to SMILES\n",
        "smiles_generated = nearest_smiles_from_fp(generated_fps, fingerprints, smiles_list)\n",
        "\n",
        "# Print results\n",
        "print(\"\\n🎉 Generated Molecules (SMILES):\")\n",
        "for i, s in enumerate(smiles_generated, 1):\n",
        "    print(f\"{i}: {s}\")\n"
      ]
    },
    {
      "cell_type": "code",
      "execution_count": null,
      "metadata": {
        "id": "v1RUpRkHERTL"
      },
      "outputs": [],
      "source": [
        "from rdkit import Chem\n",
        "from rdkit.Chem import Draw\n",
        "from IPython.display import display, Image\n",
        "\n",
        "def show_generated_smiles(smiles_list, img_name=\"generated_molecules.png\"):\n",
        "    # Convert to molecules and filter out invalid ones\n",
        "    mols = []\n",
        "    legends = []\n",
        "    for s in smiles_list:\n",
        "        mol = Chem.MolFromSmiles(s)\n",
        "        if mol:\n",
        "            mols.append(mol)\n",
        "            legends.append(s)  # You can use SMILES as legend\n",
        "\n",
        "    # Generate image\n",
        "    img = Draw.MolsToGridImage(\n",
        "        mols[:10], molsPerRow=1, subImgSize=(700, 400),\n",
        "        legends=legends[:10], returnPNG=False\n",
        "    )\n",
        "\n",
        "    # Save the image using PIL's .save method\n",
        "    img.save(img_name)\n",
        "    display(Image(img_name))\n",
        "show_generated_smiles(smiles_generated)\n"
      ]
    },
    {
      "cell_type": "code",
      "execution_count": null,
      "metadata": {
        "id": "byiKThPJEVMO"
      },
      "outputs": [],
      "source": [
        "from rdkit.Chem import Descriptors, QED\n",
        "from rdkit.Chem import Crippen\n",
        "from rdkit.Chem import Lipinski\n",
        "\n",
        "def evaluate_properties(smiles_list):\n",
        "    props = []\n",
        "    for smi in smiles_list:\n",
        "        mol = Chem.MolFromSmiles(smi)\n",
        "        if mol:\n",
        "            mw = Descriptors.MolWt(mol)\n",
        "            logp = Crippen.MolLogP(mol)\n",
        "            qed = QED.qed(mol)\n",
        "            hbd = Lipinski.NumHDonors(mol)\n",
        "            hba = Lipinski.NumHAcceptors(mol)\n",
        "            rot_bonds = Lipinski.NumRotatableBonds(mol)\n",
        "\n",
        "            props.append({\n",
        "                'SMILES': smi,\n",
        "                'MolWt': round(mw, 2),\n",
        "                'logP': round(logp, 2),\n",
        "                'QED': round(qed, 3),\n",
        "                'HBD': hbd,\n",
        "                'HBA': hba,\n",
        "                'RotBonds': rot_bonds\n",
        "            })\n",
        "\n",
        "    return pd.DataFrame(props)\n",
        "\n",
        "# Run on your generated SMILES\n",
        "props_df = evaluate_properties(smiles_generated)\n",
        "\n",
        "# Show the top few\n",
        "props_df.head(10)\n"
      ]
    },
    {
      "cell_type": "code",
      "execution_count": null,
      "metadata": {
        "id": "noriB_xqo3wB"
      },
      "outputs": [],
      "source": [
        "from rdkit.Chem import Descriptors, QED\n",
        "\n",
        "def calculate_properties(smiles_list):\n",
        "    properties = []\n",
        "    for smi in smiles_list:\n",
        "        mol = Chem.MolFromSmiles(smi)\n",
        "        if mol:\n",
        "            props = {\n",
        "                'SMILES': smi,\n",
        "                'QED': QED.qed(mol),\n",
        "                'logP': Descriptors.MolLogP(mol),\n",
        "                'MolWt': Descriptors.MolWt(mol),\n",
        "                'HDonors': Descriptors.NumHDonors(mol),\n",
        "                'HAcceptors': Descriptors.NumHAcceptors(mol),\n",
        "            }\n",
        "            props['Lipinski_Violations'] = sum([\n",
        "                props['MolWt'] > 500,\n",
        "                props['logP'] > 5,\n",
        "                props['HDonors'] > 5,\n",
        "                props['HAcceptors'] > 10\n",
        "            ])\n",
        "            properties.append(props)\n",
        "    return pd.DataFrame(properties)\n",
        "\n",
        "generated_props_df = calculate_properties(smiles_generated)\n"
      ]
    },
    {
      "cell_type": "code",
      "execution_count": null,
      "metadata": {
        "id": "qOTYfHTg2W4f"
      },
      "outputs": [],
      "source": [
        "top_qed = generated_props_df.sort_values(by='QED', ascending=False)\n",
        "display(top_qed.head(10))  # Show top 10 drug-like molecules\n"
      ]
    },
    {
      "cell_type": "code",
      "execution_count": null,
      "metadata": {
        "id": "xUCT8Ste2Z3X"
      },
      "outputs": [],
      "source": [
        "lipinski_df = generated_props_df[generated_props_df['Lipinski_Violations'] == 0]\n",
        "print(f\"🧪 Molecules passing Lipinski’s Rule: {len(lipinski_df)} / {len(generated_props_df)}\")\n"
      ]
    },
    {
      "cell_type": "code",
      "execution_count": null,
      "metadata": {
        "id": "Y-M1TXaT2lA_"
      },
      "outputs": [],
      "source": [
        "filtered_df = lipinski_df[(lipinski_df['logP'] <= 5) & (lipinski_df['MolWt'] <= 500)]\n"
      ]
    },
    {
      "cell_type": "code",
      "execution_count": null,
      "metadata": {
        "id": "UjXUiKKx2pXy"
      },
      "outputs": [],
      "source": [
        "filtered_df.to_csv(\"filtered_generated_molecules.csv\", index=False)\n",
        "print(\"✅ Exported filtered molecules to CSV.\")\n"
      ]
    },
    {
      "cell_type": "code",
      "execution_count": null,
      "metadata": {
        "id": "TjZAos_-2tJh"
      },
      "outputs": [],
      "source": [
        "from rdkit.Chem import Draw\n",
        "\n",
        "top_mols = [Chem.MolFromSmiles(smi) for smi in top_qed['SMILES'].head(10)]\n",
        "Draw.MolsToGridImage(top_mols, molsPerRow=5, subImgSize=(300,300),\n",
        "                     legends=[f\"QED: {round(q,2)}\" for q in top_qed['QED'].head(10)])\n"
      ]
    },
    {
      "cell_type": "code",
      "execution_count": null,
      "metadata": {
        "id": "bu1n0njz2wR7"
      },
      "outputs": [],
      "source": [
        "torch.save(model.state_dict(), 'model.pth')\n"
      ]
    },
    {
      "cell_type": "code",
      "execution_count": null,
      "metadata": {
        "id": "-BeqypR3icQ0"
      },
      "outputs": [],
      "source": [
        "from google.colab import files\n",
        "files.download('model.pth')\n"
      ]
    },
    {
      "cell_type": "code",
      "source": [],
      "metadata": {
        "id": "V8wCkutabljA"
      },
      "execution_count": null,
      "outputs": []
    }
  ],
  "metadata": {
    "colab": {
      "provenance": [],
      "include_colab_link": true
    },
    "kernelspec": {
      "display_name": "Python 3",
      "name": "python3"
    },
    "language_info": {
      "name": "python"
    }
  },
  "nbformat": 4,
  "nbformat_minor": 0
}